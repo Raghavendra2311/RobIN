{
 "cells": [
  {
   "cell_type": "code",
   "execution_count": 1,
   "metadata": {
    "id": "vP14t3zqK-33"
   },
   "outputs": [],
   "source": [
    "import pandas as pd\n",
    "import numpy as np"
   ]
  },
  {
   "cell_type": "code",
   "execution_count": 2,
   "metadata": {
    "colab": {
     "base_uri": "https://localhost:8080/"
    },
    "id": "mJTCnFuTLWFf",
    "outputId": "f55e791d-a4be-49a2-a78a-e96ccc347c05"
   },
   "outputs": [
    {
     "name": "stderr",
     "output_type": "stream",
     "text": [
      "C:\\Users\\RAGHAVENDRA\\anaconda31\\lib\\site-packages\\IPython\\core\\interactiveshell.py:3165: DtypeWarning: Columns (0,9,10,11,12,13,14,15,16,17,18,19,20,21,22,23,24,25,33) have mixed types.Specify dtype option on import or set low_memory=False.\n",
      "  has_raised = await self.run_ast_nodes(code_ast.body, cell_name,\n"
     ]
    }
   ],
   "source": [
    "df = pd.read_csv('vehicle_logs_demo.csv')"
   ]
  },
  {
   "cell_type": "code",
   "execution_count": 3,
   "metadata": {
    "colab": {
     "base_uri": "https://localhost:8080/",
     "height": 1000
    },
    "id": "0DxzzY15MGSv",
    "outputId": "c6cfc4c9-15b7-43dc-d25f-dd4a6b383991"
   },
   "outputs": [
    {
     "data": {
      "text/html": [
       "<div>\n",
       "<style scoped>\n",
       "    .dataframe tbody tr th:only-of-type {\n",
       "        vertical-align: middle;\n",
       "    }\n",
       "\n",
       "    .dataframe tbody tr th {\n",
       "        vertical-align: top;\n",
       "    }\n",
       "\n",
       "    .dataframe thead th {\n",
       "        text-align: right;\n",
       "    }\n",
       "</style>\n",
       "<table border=\"1\" class=\"dataframe\">\n",
       "  <thead>\n",
       "    <tr style=\"text-align: right;\">\n",
       "      <th></th>\n",
       "      <th>0</th>\n",
       "      <th>1</th>\n",
       "      <th>2</th>\n",
       "      <th>3</th>\n",
       "      <th>4</th>\n",
       "    </tr>\n",
       "  </thead>\n",
       "  <tbody>\n",
       "    <tr>\n",
       "      <th>firmware</th>\n",
       "      <td>1.1.3</td>\n",
       "      <td>1.1.3</td>\n",
       "      <td>1.1.3</td>\n",
       "      <td>1.1.3</td>\n",
       "      <td>1.1.3</td>\n",
       "    </tr>\n",
       "    <tr>\n",
       "      <th>wheelRpm</th>\n",
       "      <td>0.0</td>\n",
       "      <td>0.0</td>\n",
       "      <td>0.0</td>\n",
       "      <td>0.0</td>\n",
       "      <td>0.0</td>\n",
       "    </tr>\n",
       "    <tr>\n",
       "      <th>throttle</th>\n",
       "      <td>0.0</td>\n",
       "      <td>0.0</td>\n",
       "      <td>0.0</td>\n",
       "      <td>0.0</td>\n",
       "      <td>0.0</td>\n",
       "    </tr>\n",
       "    <tr>\n",
       "      <th>batteryVoltage</th>\n",
       "      <td>83.72</td>\n",
       "      <td>83.72</td>\n",
       "      <td>83.83</td>\n",
       "      <td>83.72</td>\n",
       "      <td>83.72</td>\n",
       "    </tr>\n",
       "    <tr>\n",
       "      <th>batteryVoltageAdc</th>\n",
       "      <td>NaN</td>\n",
       "      <td>NaN</td>\n",
       "      <td>NaN</td>\n",
       "      <td>NaN</td>\n",
       "      <td>NaN</td>\n",
       "    </tr>\n",
       "    <tr>\n",
       "      <th>batteryCurrent</th>\n",
       "      <td>0.0</td>\n",
       "      <td>0.0</td>\n",
       "      <td>0.0</td>\n",
       "      <td>0.0</td>\n",
       "      <td>0.0</td>\n",
       "    </tr>\n",
       "    <tr>\n",
       "      <th>odometer</th>\n",
       "      <td>933334.0</td>\n",
       "      <td>933334.0</td>\n",
       "      <td>933334.0</td>\n",
       "      <td>933334.0</td>\n",
       "      <td>933334.0</td>\n",
       "    </tr>\n",
       "    <tr>\n",
       "      <th>controllerTemperature</th>\n",
       "      <td>43.0</td>\n",
       "      <td>43.0</td>\n",
       "      <td>43.0</td>\n",
       "      <td>43.0</td>\n",
       "      <td>43.0</td>\n",
       "    </tr>\n",
       "    <tr>\n",
       "      <th>mode</th>\n",
       "      <td>0.0</td>\n",
       "      <td>0.0</td>\n",
       "      <td>0.0</td>\n",
       "      <td>0.0</td>\n",
       "      <td>0.0</td>\n",
       "    </tr>\n",
       "    <tr>\n",
       "      <th>softLockStatus</th>\n",
       "      <td>False</td>\n",
       "      <td>False</td>\n",
       "      <td>False</td>\n",
       "      <td>False</td>\n",
       "      <td>False</td>\n",
       "    </tr>\n",
       "    <tr>\n",
       "      <th>overloadStatus</th>\n",
       "      <td>False</td>\n",
       "      <td>False</td>\n",
       "      <td>False</td>\n",
       "      <td>False</td>\n",
       "      <td>False</td>\n",
       "    </tr>\n",
       "    <tr>\n",
       "      <th>overCurrentStatus</th>\n",
       "      <td>False</td>\n",
       "      <td>False</td>\n",
       "      <td>False</td>\n",
       "      <td>False</td>\n",
       "      <td>False</td>\n",
       "    </tr>\n",
       "    <tr>\n",
       "      <th>reverseStatus</th>\n",
       "      <td>False</td>\n",
       "      <td>False</td>\n",
       "      <td>False</td>\n",
       "      <td>False</td>\n",
       "      <td>False</td>\n",
       "    </tr>\n",
       "    <tr>\n",
       "      <th>parkingStatus</th>\n",
       "      <td>False</td>\n",
       "      <td>False</td>\n",
       "      <td>False</td>\n",
       "      <td>False</td>\n",
       "      <td>False</td>\n",
       "    </tr>\n",
       "    <tr>\n",
       "      <th>antiTheftStatus</th>\n",
       "      <td>False</td>\n",
       "      <td>False</td>\n",
       "      <td>False</td>\n",
       "      <td>False</td>\n",
       "      <td>False</td>\n",
       "    </tr>\n",
       "    <tr>\n",
       "      <th>eabsStatus</th>\n",
       "      <td>False</td>\n",
       "      <td>False</td>\n",
       "      <td>False</td>\n",
       "      <td>False</td>\n",
       "      <td>False</td>\n",
       "    </tr>\n",
       "    <tr>\n",
       "      <th>chargingStatus</th>\n",
       "      <td>False</td>\n",
       "      <td>False</td>\n",
       "      <td>False</td>\n",
       "      <td>False</td>\n",
       "      <td>False</td>\n",
       "    </tr>\n",
       "    <tr>\n",
       "      <th>regenBrakingStatus</th>\n",
       "      <td>False</td>\n",
       "      <td>False</td>\n",
       "      <td>False</td>\n",
       "      <td>False</td>\n",
       "      <td>False</td>\n",
       "    </tr>\n",
       "    <tr>\n",
       "      <th>brakeStatus</th>\n",
       "      <td>False</td>\n",
       "      <td>False</td>\n",
       "      <td>False</td>\n",
       "      <td>False</td>\n",
       "      <td>False</td>\n",
       "    </tr>\n",
       "    <tr>\n",
       "      <th>throttleStatus</th>\n",
       "      <td>False</td>\n",
       "      <td>False</td>\n",
       "      <td>False</td>\n",
       "      <td>False</td>\n",
       "      <td>False</td>\n",
       "    </tr>\n",
       "    <tr>\n",
       "      <th>controllerStatus</th>\n",
       "      <td>False</td>\n",
       "      <td>False</td>\n",
       "      <td>False</td>\n",
       "      <td>False</td>\n",
       "      <td>False</td>\n",
       "    </tr>\n",
       "    <tr>\n",
       "      <th>motorStatus</th>\n",
       "      <td>False</td>\n",
       "      <td>False</td>\n",
       "      <td>False</td>\n",
       "      <td>False</td>\n",
       "      <td>False</td>\n",
       "    </tr>\n",
       "    <tr>\n",
       "      <th>hillAssistStatus</th>\n",
       "      <td>False</td>\n",
       "      <td>False</td>\n",
       "      <td>False</td>\n",
       "      <td>False</td>\n",
       "      <td>False</td>\n",
       "    </tr>\n",
       "    <tr>\n",
       "      <th>headlight</th>\n",
       "      <td>NaN</td>\n",
       "      <td>NaN</td>\n",
       "      <td>NaN</td>\n",
       "      <td>NaN</td>\n",
       "      <td>NaN</td>\n",
       "    </tr>\n",
       "    <tr>\n",
       "      <th>leftIndicator</th>\n",
       "      <td>NaN</td>\n",
       "      <td>NaN</td>\n",
       "      <td>NaN</td>\n",
       "      <td>NaN</td>\n",
       "      <td>NaN</td>\n",
       "    </tr>\n",
       "    <tr>\n",
       "      <th>rightIndicator</th>\n",
       "      <td>NaN</td>\n",
       "      <td>NaN</td>\n",
       "      <td>NaN</td>\n",
       "      <td>NaN</td>\n",
       "      <td>NaN</td>\n",
       "    </tr>\n",
       "    <tr>\n",
       "      <th>speedLimit</th>\n",
       "      <td>NaN</td>\n",
       "      <td>NaN</td>\n",
       "      <td>NaN</td>\n",
       "      <td>NaN</td>\n",
       "      <td>NaN</td>\n",
       "    </tr>\n",
       "    <tr>\n",
       "      <th>currentLimit</th>\n",
       "      <td>NaN</td>\n",
       "      <td>NaN</td>\n",
       "      <td>NaN</td>\n",
       "      <td>NaN</td>\n",
       "      <td>NaN</td>\n",
       "    </tr>\n",
       "    <tr>\n",
       "      <th>underVoltageLimit</th>\n",
       "      <td>NaN</td>\n",
       "      <td>NaN</td>\n",
       "      <td>NaN</td>\n",
       "      <td>NaN</td>\n",
       "      <td>NaN</td>\n",
       "    </tr>\n",
       "    <tr>\n",
       "      <th>overVoltageLimit</th>\n",
       "      <td>NaN</td>\n",
       "      <td>NaN</td>\n",
       "      <td>NaN</td>\n",
       "      <td>NaN</td>\n",
       "      <td>NaN</td>\n",
       "    </tr>\n",
       "    <tr>\n",
       "      <th>zeroThrottleRegenLimit</th>\n",
       "      <td>NaN</td>\n",
       "      <td>NaN</td>\n",
       "      <td>NaN</td>\n",
       "      <td>NaN</td>\n",
       "      <td>NaN</td>\n",
       "    </tr>\n",
       "    <tr>\n",
       "      <th>brakeRegenLimit</th>\n",
       "      <td>NaN</td>\n",
       "      <td>NaN</td>\n",
       "      <td>NaN</td>\n",
       "      <td>NaN</td>\n",
       "      <td>NaN</td>\n",
       "    </tr>\n",
       "    <tr>\n",
       "      <th>pickupControlLimit</th>\n",
       "      <td>NaN</td>\n",
       "      <td>NaN</td>\n",
       "      <td>NaN</td>\n",
       "      <td>NaN</td>\n",
       "      <td>NaN</td>\n",
       "    </tr>\n",
       "    <tr>\n",
       "      <th>riderId</th>\n",
       "      <td>5da30e6a24aa9a0007976961</td>\n",
       "      <td>5da30e6a24aa9a0007976961</td>\n",
       "      <td>5da30e6a24aa9a0007976961</td>\n",
       "      <td>5da30e6a24aa9a0007976961</td>\n",
       "      <td>5da30e6a24aa9a0007976961</td>\n",
       "    </tr>\n",
       "    <tr>\n",
       "      <th>type</th>\n",
       "      <td>U</td>\n",
       "      <td>U</td>\n",
       "      <td>U</td>\n",
       "      <td>U</td>\n",
       "      <td>U</td>\n",
       "    </tr>\n",
       "    <tr>\n",
       "      <th>ignition</th>\n",
       "      <td>NaN</td>\n",
       "      <td>NaN</td>\n",
       "      <td>NaN</td>\n",
       "      <td>NaN</td>\n",
       "      <td>NaN</td>\n",
       "    </tr>\n",
       "    <tr>\n",
       "      <th>tripId</th>\n",
       "      <td>557.0</td>\n",
       "      <td>557.0</td>\n",
       "      <td>557.0</td>\n",
       "      <td>557.0</td>\n",
       "      <td>557.0</td>\n",
       "    </tr>\n",
       "    <tr>\n",
       "      <th>timestamp</th>\n",
       "      <td>2020-10-08 12:00:56+05:30</td>\n",
       "      <td>2020-10-08 12:00:32+05:30</td>\n",
       "      <td>2020-10-08 12:00:31+05:30</td>\n",
       "      <td>2020-10-08 12:00:46+05:30</td>\n",
       "      <td>2020-10-08 12:00:42+05:30</td>\n",
       "    </tr>\n",
       "    <tr>\n",
       "      <th>terminalID</th>\n",
       "      <td>NaN</td>\n",
       "      <td>NaN</td>\n",
       "      <td>NaN</td>\n",
       "      <td>NaN</td>\n",
       "      <td>NaN</td>\n",
       "    </tr>\n",
       "    <tr>\n",
       "      <th>vin</th>\n",
       "      <td>NDS_KEYLESS_DEMO</td>\n",
       "      <td>NDS_KEYLESS_DEMO</td>\n",
       "      <td>NDS_KEYLESS_DEMO</td>\n",
       "      <td>NDS_KEYLESS_DEMO</td>\n",
       "      <td>NDS_KEYLESS_DEMO</td>\n",
       "    </tr>\n",
       "    <tr>\n",
       "      <th>latitude</th>\n",
       "      <td>NaN</td>\n",
       "      <td>NaN</td>\n",
       "      <td>NaN</td>\n",
       "      <td>NaN</td>\n",
       "      <td>NaN</td>\n",
       "    </tr>\n",
       "    <tr>\n",
       "      <th>longitude</th>\n",
       "      <td>NaN</td>\n",
       "      <td>NaN</td>\n",
       "      <td>NaN</td>\n",
       "      <td>NaN</td>\n",
       "      <td>NaN</td>\n",
       "    </tr>\n",
       "    <tr>\n",
       "      <th>altitude</th>\n",
       "      <td>NaN</td>\n",
       "      <td>NaN</td>\n",
       "      <td>NaN</td>\n",
       "      <td>NaN</td>\n",
       "      <td>NaN</td>\n",
       "    </tr>\n",
       "    <tr>\n",
       "      <th>satellites</th>\n",
       "      <td>NaN</td>\n",
       "      <td>NaN</td>\n",
       "      <td>NaN</td>\n",
       "      <td>NaN</td>\n",
       "      <td>NaN</td>\n",
       "    </tr>\n",
       "    <tr>\n",
       "      <th>xAcc</th>\n",
       "      <td>NaN</td>\n",
       "      <td>NaN</td>\n",
       "      <td>NaN</td>\n",
       "      <td>NaN</td>\n",
       "      <td>NaN</td>\n",
       "    </tr>\n",
       "    <tr>\n",
       "      <th>yAcc</th>\n",
       "      <td>NaN</td>\n",
       "      <td>NaN</td>\n",
       "      <td>NaN</td>\n",
       "      <td>NaN</td>\n",
       "      <td>NaN</td>\n",
       "    </tr>\n",
       "    <tr>\n",
       "      <th>zAcc</th>\n",
       "      <td>NaN</td>\n",
       "      <td>NaN</td>\n",
       "      <td>NaN</td>\n",
       "      <td>NaN</td>\n",
       "      <td>NaN</td>\n",
       "    </tr>\n",
       "    <tr>\n",
       "      <th>gpsSpeed</th>\n",
       "      <td>NaN</td>\n",
       "      <td>NaN</td>\n",
       "      <td>NaN</td>\n",
       "      <td>NaN</td>\n",
       "      <td>NaN</td>\n",
       "    </tr>\n",
       "    <tr>\n",
       "      <th>deviceBatteryVoltage</th>\n",
       "      <td>NaN</td>\n",
       "      <td>NaN</td>\n",
       "      <td>NaN</td>\n",
       "      <td>NaN</td>\n",
       "      <td>NaN</td>\n",
       "    </tr>\n",
       "    <tr>\n",
       "      <th>batterySOC</th>\n",
       "      <td>NaN</td>\n",
       "      <td>NaN</td>\n",
       "      <td>NaN</td>\n",
       "      <td>NaN</td>\n",
       "      <td>NaN</td>\n",
       "    </tr>\n",
       "    <tr>\n",
       "      <th>batterySOH</th>\n",
       "      <td>NaN</td>\n",
       "      <td>NaN</td>\n",
       "      <td>NaN</td>\n",
       "      <td>NaN</td>\n",
       "      <td>NaN</td>\n",
       "    </tr>\n",
       "    <tr>\n",
       "      <th>movement</th>\n",
       "      <td>NaN</td>\n",
       "      <td>NaN</td>\n",
       "      <td>NaN</td>\n",
       "      <td>NaN</td>\n",
       "      <td>NaN</td>\n",
       "    </tr>\n",
       "    <tr>\n",
       "      <th>lock</th>\n",
       "      <td>NaN</td>\n",
       "      <td>NaN</td>\n",
       "      <td>NaN</td>\n",
       "      <td>NaN</td>\n",
       "      <td>NaN</td>\n",
       "    </tr>\n",
       "    <tr>\n",
       "      <th>angle</th>\n",
       "      <td>NaN</td>\n",
       "      <td>NaN</td>\n",
       "      <td>NaN</td>\n",
       "      <td>NaN</td>\n",
       "      <td>NaN</td>\n",
       "    </tr>\n",
       "  </tbody>\n",
       "</table>\n",
       "</div>"
      ],
      "text/plain": [
       "                                                0                          1  \\\n",
       "firmware                                    1.1.3                      1.1.3   \n",
       "wheelRpm                                      0.0                        0.0   \n",
       "throttle                                      0.0                        0.0   \n",
       "batteryVoltage                              83.72                      83.72   \n",
       "batteryVoltageAdc                             NaN                        NaN   \n",
       "batteryCurrent                                0.0                        0.0   \n",
       "odometer                                 933334.0                   933334.0   \n",
       "controllerTemperature                        43.0                       43.0   \n",
       "mode                                          0.0                        0.0   \n",
       "softLockStatus                              False                      False   \n",
       "overloadStatus                              False                      False   \n",
       "overCurrentStatus                           False                      False   \n",
       "reverseStatus                               False                      False   \n",
       "parkingStatus                               False                      False   \n",
       "antiTheftStatus                             False                      False   \n",
       "eabsStatus                                  False                      False   \n",
       "chargingStatus                              False                      False   \n",
       "regenBrakingStatus                          False                      False   \n",
       "brakeStatus                                 False                      False   \n",
       "throttleStatus                              False                      False   \n",
       "controllerStatus                            False                      False   \n",
       "motorStatus                                 False                      False   \n",
       "hillAssistStatus                            False                      False   \n",
       "headlight                                     NaN                        NaN   \n",
       "leftIndicator                                 NaN                        NaN   \n",
       "rightIndicator                                NaN                        NaN   \n",
       "speedLimit                                    NaN                        NaN   \n",
       "currentLimit                                  NaN                        NaN   \n",
       "underVoltageLimit                             NaN                        NaN   \n",
       "overVoltageLimit                              NaN                        NaN   \n",
       "zeroThrottleRegenLimit                        NaN                        NaN   \n",
       "brakeRegenLimit                               NaN                        NaN   \n",
       "pickupControlLimit                            NaN                        NaN   \n",
       "riderId                  5da30e6a24aa9a0007976961   5da30e6a24aa9a0007976961   \n",
       "type                                            U                          U   \n",
       "ignition                                      NaN                        NaN   \n",
       "tripId                                      557.0                      557.0   \n",
       "timestamp               2020-10-08 12:00:56+05:30  2020-10-08 12:00:32+05:30   \n",
       "terminalID                                    NaN                        NaN   \n",
       "vin                              NDS_KEYLESS_DEMO           NDS_KEYLESS_DEMO   \n",
       "latitude                                      NaN                        NaN   \n",
       "longitude                                     NaN                        NaN   \n",
       "altitude                                      NaN                        NaN   \n",
       "satellites                                    NaN                        NaN   \n",
       "xAcc                                          NaN                        NaN   \n",
       "yAcc                                          NaN                        NaN   \n",
       "zAcc                                          NaN                        NaN   \n",
       "gpsSpeed                                      NaN                        NaN   \n",
       "deviceBatteryVoltage                          NaN                        NaN   \n",
       "batterySOC                                    NaN                        NaN   \n",
       "batterySOH                                    NaN                        NaN   \n",
       "movement                                      NaN                        NaN   \n",
       "lock                                          NaN                        NaN   \n",
       "angle                                         NaN                        NaN   \n",
       "\n",
       "                                                2                          3  \\\n",
       "firmware                                    1.1.3                      1.1.3   \n",
       "wheelRpm                                      0.0                        0.0   \n",
       "throttle                                      0.0                        0.0   \n",
       "batteryVoltage                              83.83                      83.72   \n",
       "batteryVoltageAdc                             NaN                        NaN   \n",
       "batteryCurrent                                0.0                        0.0   \n",
       "odometer                                 933334.0                   933334.0   \n",
       "controllerTemperature                        43.0                       43.0   \n",
       "mode                                          0.0                        0.0   \n",
       "softLockStatus                              False                      False   \n",
       "overloadStatus                              False                      False   \n",
       "overCurrentStatus                           False                      False   \n",
       "reverseStatus                               False                      False   \n",
       "parkingStatus                               False                      False   \n",
       "antiTheftStatus                             False                      False   \n",
       "eabsStatus                                  False                      False   \n",
       "chargingStatus                              False                      False   \n",
       "regenBrakingStatus                          False                      False   \n",
       "brakeStatus                                 False                      False   \n",
       "throttleStatus                              False                      False   \n",
       "controllerStatus                            False                      False   \n",
       "motorStatus                                 False                      False   \n",
       "hillAssistStatus                            False                      False   \n",
       "headlight                                     NaN                        NaN   \n",
       "leftIndicator                                 NaN                        NaN   \n",
       "rightIndicator                                NaN                        NaN   \n",
       "speedLimit                                    NaN                        NaN   \n",
       "currentLimit                                  NaN                        NaN   \n",
       "underVoltageLimit                             NaN                        NaN   \n",
       "overVoltageLimit                              NaN                        NaN   \n",
       "zeroThrottleRegenLimit                        NaN                        NaN   \n",
       "brakeRegenLimit                               NaN                        NaN   \n",
       "pickupControlLimit                            NaN                        NaN   \n",
       "riderId                  5da30e6a24aa9a0007976961   5da30e6a24aa9a0007976961   \n",
       "type                                            U                          U   \n",
       "ignition                                      NaN                        NaN   \n",
       "tripId                                      557.0                      557.0   \n",
       "timestamp               2020-10-08 12:00:31+05:30  2020-10-08 12:00:46+05:30   \n",
       "terminalID                                    NaN                        NaN   \n",
       "vin                              NDS_KEYLESS_DEMO           NDS_KEYLESS_DEMO   \n",
       "latitude                                      NaN                        NaN   \n",
       "longitude                                     NaN                        NaN   \n",
       "altitude                                      NaN                        NaN   \n",
       "satellites                                    NaN                        NaN   \n",
       "xAcc                                          NaN                        NaN   \n",
       "yAcc                                          NaN                        NaN   \n",
       "zAcc                                          NaN                        NaN   \n",
       "gpsSpeed                                      NaN                        NaN   \n",
       "deviceBatteryVoltage                          NaN                        NaN   \n",
       "batterySOC                                    NaN                        NaN   \n",
       "batterySOH                                    NaN                        NaN   \n",
       "movement                                      NaN                        NaN   \n",
       "lock                                          NaN                        NaN   \n",
       "angle                                         NaN                        NaN   \n",
       "\n",
       "                                                4  \n",
       "firmware                                    1.1.3  \n",
       "wheelRpm                                      0.0  \n",
       "throttle                                      0.0  \n",
       "batteryVoltage                              83.72  \n",
       "batteryVoltageAdc                             NaN  \n",
       "batteryCurrent                                0.0  \n",
       "odometer                                 933334.0  \n",
       "controllerTemperature                        43.0  \n",
       "mode                                          0.0  \n",
       "softLockStatus                              False  \n",
       "overloadStatus                              False  \n",
       "overCurrentStatus                           False  \n",
       "reverseStatus                               False  \n",
       "parkingStatus                               False  \n",
       "antiTheftStatus                             False  \n",
       "eabsStatus                                  False  \n",
       "chargingStatus                              False  \n",
       "regenBrakingStatus                          False  \n",
       "brakeStatus                                 False  \n",
       "throttleStatus                              False  \n",
       "controllerStatus                            False  \n",
       "motorStatus                                 False  \n",
       "hillAssistStatus                            False  \n",
       "headlight                                     NaN  \n",
       "leftIndicator                                 NaN  \n",
       "rightIndicator                                NaN  \n",
       "speedLimit                                    NaN  \n",
       "currentLimit                                  NaN  \n",
       "underVoltageLimit                             NaN  \n",
       "overVoltageLimit                              NaN  \n",
       "zeroThrottleRegenLimit                        NaN  \n",
       "brakeRegenLimit                               NaN  \n",
       "pickupControlLimit                            NaN  \n",
       "riderId                  5da30e6a24aa9a0007976961  \n",
       "type                                            U  \n",
       "ignition                                      NaN  \n",
       "tripId                                      557.0  \n",
       "timestamp               2020-10-08 12:00:42+05:30  \n",
       "terminalID                                    NaN  \n",
       "vin                              NDS_KEYLESS_DEMO  \n",
       "latitude                                      NaN  \n",
       "longitude                                     NaN  \n",
       "altitude                                      NaN  \n",
       "satellites                                    NaN  \n",
       "xAcc                                          NaN  \n",
       "yAcc                                          NaN  \n",
       "zAcc                                          NaN  \n",
       "gpsSpeed                                      NaN  \n",
       "deviceBatteryVoltage                          NaN  \n",
       "batterySOC                                    NaN  \n",
       "batterySOH                                    NaN  \n",
       "movement                                      NaN  \n",
       "lock                                          NaN  \n",
       "angle                                         NaN  "
      ]
     },
     "execution_count": 3,
     "metadata": {},
     "output_type": "execute_result"
    }
   ],
   "source": [
    "df.head().transpose()\n"
   ]
  },
  {
   "cell_type": "code",
   "execution_count": 4,
   "metadata": {
    "colab": {
     "base_uri": "https://localhost:8080/"
    },
    "id": "tAOiQwcAUZ5a",
    "outputId": "d78f00ef-0200-4ba9-ce8b-a53eede9f576"
   },
   "outputs": [
    {
     "data": {
      "text/plain": [
       "array(['U', 'L', 'B', 'I'], dtype=object)"
      ]
     },
     "execution_count": 4,
     "metadata": {},
     "output_type": "execute_result"
    }
   ],
   "source": [
    "df['type'].unique()"
   ]
  },
  {
   "cell_type": "code",
   "execution_count": 5,
   "metadata": {
    "colab": {
     "base_uri": "https://localhost:8080/",
     "height": 313
    },
    "id": "zrFbtZxWMKEB",
    "outputId": "18fb62b0-5930-466c-dd69-a08faeb40c14"
   },
   "outputs": [
    {
     "data": {
      "text/html": [
       "<div>\n",
       "<style scoped>\n",
       "    .dataframe tbody tr th:only-of-type {\n",
       "        vertical-align: middle;\n",
       "    }\n",
       "\n",
       "    .dataframe tbody tr th {\n",
       "        vertical-align: top;\n",
       "    }\n",
       "\n",
       "    .dataframe thead th {\n",
       "        text-align: right;\n",
       "    }\n",
       "</style>\n",
       "<table border=\"1\" class=\"dataframe\">\n",
       "  <thead>\n",
       "    <tr style=\"text-align: right;\">\n",
       "      <th></th>\n",
       "      <th>firmware</th>\n",
       "      <th>wheelRpm</th>\n",
       "      <th>throttle</th>\n",
       "      <th>batteryVoltage</th>\n",
       "      <th>batteryVoltageAdc</th>\n",
       "      <th>batteryCurrent</th>\n",
       "      <th>odometer</th>\n",
       "      <th>controllerTemperature</th>\n",
       "      <th>mode</th>\n",
       "      <th>softLockStatus</th>\n",
       "      <th>...</th>\n",
       "      <th>xAcc</th>\n",
       "      <th>yAcc</th>\n",
       "      <th>zAcc</th>\n",
       "      <th>gpsSpeed</th>\n",
       "      <th>deviceBatteryVoltage</th>\n",
       "      <th>batterySOC</th>\n",
       "      <th>batterySOH</th>\n",
       "      <th>movement</th>\n",
       "      <th>lock</th>\n",
       "      <th>angle</th>\n",
       "    </tr>\n",
       "  </thead>\n",
       "  <tbody>\n",
       "    <tr>\n",
       "      <th>151483</th>\n",
       "      <td>NaN</td>\n",
       "      <td>NaN</td>\n",
       "      <td>NaN</td>\n",
       "      <td>NaN</td>\n",
       "      <td>53.92157</td>\n",
       "      <td>0.0</td>\n",
       "      <td>NaN</td>\n",
       "      <td>NaN</td>\n",
       "      <td>NaN</td>\n",
       "      <td>NaN</td>\n",
       "      <td>...</td>\n",
       "      <td>NaN</td>\n",
       "      <td>NaN</td>\n",
       "      <td>NaN</td>\n",
       "      <td>NaN</td>\n",
       "      <td>NaN</td>\n",
       "      <td>NaN</td>\n",
       "      <td>NaN</td>\n",
       "      <td>NaN</td>\n",
       "      <td>NaN</td>\n",
       "      <td>NaN</td>\n",
       "    </tr>\n",
       "    <tr>\n",
       "      <th>151486</th>\n",
       "      <td>NaN</td>\n",
       "      <td>NaN</td>\n",
       "      <td>NaN</td>\n",
       "      <td>NaN</td>\n",
       "      <td>53.63322</td>\n",
       "      <td>0.0</td>\n",
       "      <td>NaN</td>\n",
       "      <td>NaN</td>\n",
       "      <td>NaN</td>\n",
       "      <td>NaN</td>\n",
       "      <td>...</td>\n",
       "      <td>NaN</td>\n",
       "      <td>NaN</td>\n",
       "      <td>NaN</td>\n",
       "      <td>NaN</td>\n",
       "      <td>NaN</td>\n",
       "      <td>NaN</td>\n",
       "      <td>NaN</td>\n",
       "      <td>NaN</td>\n",
       "      <td>NaN</td>\n",
       "      <td>NaN</td>\n",
       "    </tr>\n",
       "    <tr>\n",
       "      <th>151489</th>\n",
       "      <td>NaN</td>\n",
       "      <td>NaN</td>\n",
       "      <td>NaN</td>\n",
       "      <td>NaN</td>\n",
       "      <td>53.63322</td>\n",
       "      <td>0.0</td>\n",
       "      <td>NaN</td>\n",
       "      <td>NaN</td>\n",
       "      <td>NaN</td>\n",
       "      <td>NaN</td>\n",
       "      <td>...</td>\n",
       "      <td>NaN</td>\n",
       "      <td>NaN</td>\n",
       "      <td>NaN</td>\n",
       "      <td>NaN</td>\n",
       "      <td>NaN</td>\n",
       "      <td>NaN</td>\n",
       "      <td>NaN</td>\n",
       "      <td>NaN</td>\n",
       "      <td>NaN</td>\n",
       "      <td>NaN</td>\n",
       "    </tr>\n",
       "    <tr>\n",
       "      <th>151493</th>\n",
       "      <td>NaN</td>\n",
       "      <td>NaN</td>\n",
       "      <td>NaN</td>\n",
       "      <td>NaN</td>\n",
       "      <td>53.63322</td>\n",
       "      <td>0.0</td>\n",
       "      <td>NaN</td>\n",
       "      <td>NaN</td>\n",
       "      <td>NaN</td>\n",
       "      <td>NaN</td>\n",
       "      <td>...</td>\n",
       "      <td>NaN</td>\n",
       "      <td>NaN</td>\n",
       "      <td>NaN</td>\n",
       "      <td>NaN</td>\n",
       "      <td>NaN</td>\n",
       "      <td>NaN</td>\n",
       "      <td>NaN</td>\n",
       "      <td>NaN</td>\n",
       "      <td>NaN</td>\n",
       "      <td>NaN</td>\n",
       "    </tr>\n",
       "    <tr>\n",
       "      <th>151502</th>\n",
       "      <td>NaN</td>\n",
       "      <td>NaN</td>\n",
       "      <td>NaN</td>\n",
       "      <td>NaN</td>\n",
       "      <td>53.05652</td>\n",
       "      <td>0.0</td>\n",
       "      <td>NaN</td>\n",
       "      <td>NaN</td>\n",
       "      <td>NaN</td>\n",
       "      <td>NaN</td>\n",
       "      <td>...</td>\n",
       "      <td>NaN</td>\n",
       "      <td>NaN</td>\n",
       "      <td>NaN</td>\n",
       "      <td>NaN</td>\n",
       "      <td>NaN</td>\n",
       "      <td>NaN</td>\n",
       "      <td>NaN</td>\n",
       "      <td>NaN</td>\n",
       "      <td>NaN</td>\n",
       "      <td>NaN</td>\n",
       "    </tr>\n",
       "  </tbody>\n",
       "</table>\n",
       "<p>5 rows × 54 columns</p>\n",
       "</div>"
      ],
      "text/plain": [
       "       firmware  wheelRpm  throttle  batteryVoltage  batteryVoltageAdc  \\\n",
       "151483      NaN       NaN       NaN             NaN           53.92157   \n",
       "151486      NaN       NaN       NaN             NaN           53.63322   \n",
       "151489      NaN       NaN       NaN             NaN           53.63322   \n",
       "151493      NaN       NaN       NaN             NaN           53.63322   \n",
       "151502      NaN       NaN       NaN             NaN           53.05652   \n",
       "\n",
       "        batteryCurrent  odometer  controllerTemperature  mode softLockStatus  \\\n",
       "151483             0.0       NaN                    NaN   NaN            NaN   \n",
       "151486             0.0       NaN                    NaN   NaN            NaN   \n",
       "151489             0.0       NaN                    NaN   NaN            NaN   \n",
       "151493             0.0       NaN                    NaN   NaN            NaN   \n",
       "151502             0.0       NaN                    NaN   NaN            NaN   \n",
       "\n",
       "        ... xAcc yAcc zAcc gpsSpeed deviceBatteryVoltage batterySOC  \\\n",
       "151483  ...  NaN  NaN  NaN      NaN                  NaN        NaN   \n",
       "151486  ...  NaN  NaN  NaN      NaN                  NaN        NaN   \n",
       "151489  ...  NaN  NaN  NaN      NaN                  NaN        NaN   \n",
       "151493  ...  NaN  NaN  NaN      NaN                  NaN        NaN   \n",
       "151502  ...  NaN  NaN  NaN      NaN                  NaN        NaN   \n",
       "\n",
       "       batterySOH movement lock angle  \n",
       "151483        NaN      NaN  NaN   NaN  \n",
       "151486        NaN      NaN  NaN   NaN  \n",
       "151489        NaN      NaN  NaN   NaN  \n",
       "151493        NaN      NaN  NaN   NaN  \n",
       "151502        NaN      NaN  NaN   NaN  \n",
       "\n",
       "[5 rows x 54 columns]"
      ]
     },
     "execution_count": 5,
     "metadata": {},
     "output_type": "execute_result"
    }
   ],
   "source": [
    "df = df[df['type']=='B']\n",
    "df.head()"
   ]
  },
  {
   "cell_type": "code",
   "execution_count": 6,
   "metadata": {
    "colab": {
     "base_uri": "https://localhost:8080/"
    },
    "id": "xEeFKC5uS67K",
    "outputId": "eaf53e89-30c7-4fd0-f7e5-9368965bde18"
   },
   "outputs": [
    {
     "name": "stdout",
     "output_type": "stream",
     "text": [
      "<class 'pandas.core.frame.DataFrame'>\n",
      "Int64Index: 74323 entries, 151483 to 443074\n",
      "Data columns (total 54 columns):\n",
      " #   Column                  Non-Null Count  Dtype  \n",
      "---  ------                  --------------  -----  \n",
      " 0   firmware                0 non-null      object \n",
      " 1   wheelRpm                0 non-null      float64\n",
      " 2   throttle                0 non-null      float64\n",
      " 3   batteryVoltage          0 non-null      float64\n",
      " 4   batteryVoltageAdc       73781 non-null  float64\n",
      " 5   batteryCurrent          74323 non-null  float64\n",
      " 6   odometer                0 non-null      float64\n",
      " 7   controllerTemperature   0 non-null      float64\n",
      " 8   mode                    0 non-null      float64\n",
      " 9   softLockStatus          0 non-null      object \n",
      " 10  overloadStatus          0 non-null      object \n",
      " 11  overCurrentStatus       0 non-null      object \n",
      " 12  reverseStatus           0 non-null      object \n",
      " 13  parkingStatus           0 non-null      object \n",
      " 14  antiTheftStatus         0 non-null      object \n",
      " 15  eabsStatus              0 non-null      object \n",
      " 16  chargingStatus          0 non-null      object \n",
      " 17  regenBrakingStatus      0 non-null      object \n",
      " 18  brakeStatus             0 non-null      object \n",
      " 19  throttleStatus          0 non-null      object \n",
      " 20  controllerStatus        0 non-null      object \n",
      " 21  motorStatus             0 non-null      object \n",
      " 22  hillAssistStatus        0 non-null      object \n",
      " 23  headlight               0 non-null      object \n",
      " 24  leftIndicator           0 non-null      object \n",
      " 25  rightIndicator          0 non-null      object \n",
      " 26  speedLimit              0 non-null      float64\n",
      " 27  currentLimit            0 non-null      float64\n",
      " 28  underVoltageLimit       0 non-null      float64\n",
      " 29  overVoltageLimit        0 non-null      float64\n",
      " 30  zeroThrottleRegenLimit  0 non-null      float64\n",
      " 31  brakeRegenLimit         0 non-null      float64\n",
      " 32  pickupControlLimit      0 non-null      float64\n",
      " 33  riderId                 0 non-null      object \n",
      " 34  type                    74323 non-null  object \n",
      " 35  ignition                0 non-null      float64\n",
      " 36  tripId                  74200 non-null  float64\n",
      " 37  timestamp               74323 non-null  object \n",
      " 38  terminalID              0 non-null      float64\n",
      " 39  vin                     74323 non-null  object \n",
      " 40  latitude                0 non-null      float64\n",
      " 41  longitude               0 non-null      float64\n",
      " 42  altitude                0 non-null      float64\n",
      " 43  satellites              0 non-null      float64\n",
      " 44  xAcc                    0 non-null      float64\n",
      " 45  yAcc                    0 non-null      float64\n",
      " 46  zAcc                    0 non-null      float64\n",
      " 47  gpsSpeed                0 non-null      float64\n",
      " 48  deviceBatteryVoltage    0 non-null      float64\n",
      " 49  batterySOC              0 non-null      float64\n",
      " 50  batterySOH              0 non-null      float64\n",
      " 51  movement                0 non-null      float64\n",
      " 52  lock                    0 non-null      float64\n",
      " 53  angle                   0 non-null      float64\n",
      "dtypes: float64(32), object(22)\n",
      "memory usage: 31.2+ MB\n"
     ]
    }
   ],
   "source": [
    "df.info()"
   ]
  },
  {
   "cell_type": "code",
   "execution_count": 7,
   "metadata": {
    "colab": {
     "base_uri": "https://localhost:8080/"
    },
    "id": "xR5UlbbeTgrg",
    "outputId": "ae86521c-2a4f-43bc-9d78-a277780d46d6"
   },
   "outputs": [],
   "source": [
    "df = df[df['tripId'].notna()]\n",
    "df['tripId']=df['tripId'].astype('int32')"
   ]
  },
  {
   "cell_type": "code",
   "execution_count": 8,
   "metadata": {
    "id": "0blO4ddBZKna"
   },
   "outputs": [],
   "source": [
    "df['timestamp'] = pd.to_datetime(df['timestamp'])"
   ]
  },
  {
   "cell_type": "code",
   "execution_count": 9,
   "metadata": {
    "colab": {
     "base_uri": "https://localhost:8080/"
    },
    "id": "zIm5VmPpTw_-",
    "outputId": "b996209c-0fb3-4e2d-92d5-b43addbd1b87"
   },
   "outputs": [
    {
     "name": "stdout",
     "output_type": "stream",
     "text": [
      "<class 'pandas.core.frame.DataFrame'>\n",
      "Int64Index: 74200 entries, 151483 to 443074\n",
      "Data columns (total 54 columns):\n",
      " #   Column                  Non-Null Count  Dtype                                \n",
      "---  ------                  --------------  -----                                \n",
      " 0   firmware                0 non-null      object                               \n",
      " 1   wheelRpm                0 non-null      float64                              \n",
      " 2   throttle                0 non-null      float64                              \n",
      " 3   batteryVoltage          0 non-null      float64                              \n",
      " 4   batteryVoltageAdc       73658 non-null  float64                              \n",
      " 5   batteryCurrent          74200 non-null  float64                              \n",
      " 6   odometer                0 non-null      float64                              \n",
      " 7   controllerTemperature   0 non-null      float64                              \n",
      " 8   mode                    0 non-null      float64                              \n",
      " 9   softLockStatus          0 non-null      object                               \n",
      " 10  overloadStatus          0 non-null      object                               \n",
      " 11  overCurrentStatus       0 non-null      object                               \n",
      " 12  reverseStatus           0 non-null      object                               \n",
      " 13  parkingStatus           0 non-null      object                               \n",
      " 14  antiTheftStatus         0 non-null      object                               \n",
      " 15  eabsStatus              0 non-null      object                               \n",
      " 16  chargingStatus          0 non-null      object                               \n",
      " 17  regenBrakingStatus      0 non-null      object                               \n",
      " 18  brakeStatus             0 non-null      object                               \n",
      " 19  throttleStatus          0 non-null      object                               \n",
      " 20  controllerStatus        0 non-null      object                               \n",
      " 21  motorStatus             0 non-null      object                               \n",
      " 22  hillAssistStatus        0 non-null      object                               \n",
      " 23  headlight               0 non-null      object                               \n",
      " 24  leftIndicator           0 non-null      object                               \n",
      " 25  rightIndicator          0 non-null      object                               \n",
      " 26  speedLimit              0 non-null      float64                              \n",
      " 27  currentLimit            0 non-null      float64                              \n",
      " 28  underVoltageLimit       0 non-null      float64                              \n",
      " 29  overVoltageLimit        0 non-null      float64                              \n",
      " 30  zeroThrottleRegenLimit  0 non-null      float64                              \n",
      " 31  brakeRegenLimit         0 non-null      float64                              \n",
      " 32  pickupControlLimit      0 non-null      float64                              \n",
      " 33  riderId                 0 non-null      object                               \n",
      " 34  type                    74200 non-null  object                               \n",
      " 35  ignition                0 non-null      float64                              \n",
      " 36  tripId                  74200 non-null  int32                                \n",
      " 37  timestamp               74200 non-null  datetime64[ns, pytz.FixedOffset(330)]\n",
      " 38  terminalID              0 non-null      float64                              \n",
      " 39  vin                     74200 non-null  object                               \n",
      " 40  latitude                0 non-null      float64                              \n",
      " 41  longitude               0 non-null      float64                              \n",
      " 42  altitude                0 non-null      float64                              \n",
      " 43  satellites              0 non-null      float64                              \n",
      " 44  xAcc                    0 non-null      float64                              \n",
      " 45  yAcc                    0 non-null      float64                              \n",
      " 46  zAcc                    0 non-null      float64                              \n",
      " 47  gpsSpeed                0 non-null      float64                              \n",
      " 48  deviceBatteryVoltage    0 non-null      float64                              \n",
      " 49  batterySOC              0 non-null      float64                              \n",
      " 50  batterySOH              0 non-null      float64                              \n",
      " 51  movement                0 non-null      float64                              \n",
      " 52  lock                    0 non-null      float64                              \n",
      " 53  angle                   0 non-null      float64                              \n",
      "dtypes: datetime64[ns, pytz.FixedOffset(330)](1), float64(31), int32(1), object(21)\n",
      "memory usage: 30.9+ MB\n"
     ]
    }
   ],
   "source": [
    "df.info()"
   ]
  },
  {
   "cell_type": "code",
   "execution_count": 10,
   "metadata": {
    "colab": {
     "base_uri": "https://localhost:8080/"
    },
    "id": "FLo8Bcb5aXKb",
    "outputId": "76881822-12a4-4c05-87ed-ccb9babf076f"
   },
   "outputs": [
    {
     "data": {
      "text/plain": [
       "firmware                  74200\n",
       "wheelRpm                  74200\n",
       "throttle                  74200\n",
       "batteryVoltage            74200\n",
       "batteryVoltageAdc           542\n",
       "batteryCurrent                0\n",
       "odometer                  74200\n",
       "controllerTemperature     74200\n",
       "mode                      74200\n",
       "softLockStatus            74200\n",
       "overloadStatus            74200\n",
       "overCurrentStatus         74200\n",
       "reverseStatus             74200\n",
       "parkingStatus             74200\n",
       "antiTheftStatus           74200\n",
       "eabsStatus                74200\n",
       "chargingStatus            74200\n",
       "regenBrakingStatus        74200\n",
       "brakeStatus               74200\n",
       "throttleStatus            74200\n",
       "controllerStatus          74200\n",
       "motorStatus               74200\n",
       "hillAssistStatus          74200\n",
       "headlight                 74200\n",
       "leftIndicator             74200\n",
       "rightIndicator            74200\n",
       "speedLimit                74200\n",
       "currentLimit              74200\n",
       "underVoltageLimit         74200\n",
       "overVoltageLimit          74200\n",
       "zeroThrottleRegenLimit    74200\n",
       "brakeRegenLimit           74200\n",
       "pickupControlLimit        74200\n",
       "riderId                   74200\n",
       "type                          0\n",
       "ignition                  74200\n",
       "tripId                        0\n",
       "timestamp                     0\n",
       "terminalID                74200\n",
       "vin                           0\n",
       "latitude                  74200\n",
       "longitude                 74200\n",
       "altitude                  74200\n",
       "satellites                74200\n",
       "xAcc                      74200\n",
       "yAcc                      74200\n",
       "zAcc                      74200\n",
       "gpsSpeed                  74200\n",
       "deviceBatteryVoltage      74200\n",
       "batterySOC                74200\n",
       "batterySOH                74200\n",
       "movement                  74200\n",
       "lock                      74200\n",
       "angle                     74200\n",
       "dtype: int64"
      ]
     },
     "execution_count": 10,
     "metadata": {},
     "output_type": "execute_result"
    }
   ],
   "source": [
    "df.isnull().sum()"
   ]
  },
  {
   "cell_type": "code",
   "execution_count": 11,
   "metadata": {
    "colab": {
     "base_uri": "https://localhost:8080/"
    },
    "id": "1Ms5L_3qw-3w",
    "outputId": "a2a766c2-ad50-419c-91c9-bbcc3e736958"
   },
   "outputs": [
    {
     "data": {
      "text/plain": [
       "count    74200.000000\n",
       "mean         0.018397\n",
       "std          0.548369\n",
       "min          0.000000\n",
       "25%          0.000000\n",
       "50%          0.000000\n",
       "75%          0.000000\n",
       "max         32.490000\n",
       "Name: batteryCurrent, dtype: float64"
      ]
     },
     "execution_count": 11,
     "metadata": {},
     "output_type": "execute_result"
    }
   ],
   "source": [
    "df['batteryCurrent'].describe()"
   ]
  },
  {
   "cell_type": "code",
   "execution_count": 12,
   "metadata": {
    "colab": {
     "base_uri": "https://localhost:8080/"
    },
    "id": "XW11fCMtxFZz",
    "outputId": "1ee8abdb-ba7f-41f7-c13e-c7ff328e2067"
   },
   "outputs": [
    {
     "data": {
      "text/plain": [
       "array([ 0.  , 12.99,  1.08, 15.15, 11.91,  0.54,  4.86,  5.4 ,  1.62,\n",
       "        2.16, 20.58, 29.79, 18.96, 17.88, 31.95,  2.7 , 24.9 ,  9.21,\n",
       "        7.56,  4.32,  3.24,  3.38,  5.94, 15.69, 14.07, 14.61,  6.48,\n",
       "        3.78, 32.49, 23.28,  3.64, 28.71, 31.41, 17.34,  4.72, 29.25,\n",
       "       21.12, 23.82,  8.95,  9.75, 13.53,  8.1 ,  8.67,  6.34,  0.68])"
      ]
     },
     "execution_count": 12,
     "metadata": {},
     "output_type": "execute_result"
    }
   ],
   "source": [
    "df['batteryCurrent'].unique()"
   ]
  },
  {
   "cell_type": "code",
   "execution_count": 13,
   "metadata": {
    "colab": {
     "base_uri": "https://localhost:8080/"
    },
    "id": "N2LxwR5zY4fQ",
    "outputId": "5e4fcb9b-ae05-46c9-8947-64397c282952"
   },
   "outputs": [
    {
     "data": {
      "text/plain": [
       "['batteryVoltageAdc', 'batteryCurrent', 'type', 'tripId', 'timestamp', 'vin']"
      ]
     },
     "execution_count": 13,
     "metadata": {},
     "output_type": "execute_result"
    }
   ],
   "source": [
    "colmn = list(df.columns)\n",
    "non_null = []\n",
    "for col in colmn:\n",
    "  if df[col].isnull().sum()!=74200 :\n",
    "    non_null.append(col)\n",
    "\n",
    "non_null"
   ]
  },
  {
   "cell_type": "code",
   "execution_count": 14,
   "metadata": {
    "id": "OTcXwyFIp9v3"
   },
   "outputs": [],
   "source": [
    "df = df[non_null]\n"
   ]
  },
  {
   "cell_type": "code",
   "execution_count": 15,
   "metadata": {
    "colab": {
     "base_uri": "https://localhost:8080/",
     "height": 313
    },
    "id": "W3YjKPFpp_Cc",
    "outputId": "dd5ef450-4900-4c60-f051-2e9c17a588c6"
   },
   "outputs": [
    {
     "data": {
      "text/html": [
       "<div>\n",
       "<style scoped>\n",
       "    .dataframe tbody tr th:only-of-type {\n",
       "        vertical-align: middle;\n",
       "    }\n",
       "\n",
       "    .dataframe tbody tr th {\n",
       "        vertical-align: top;\n",
       "    }\n",
       "\n",
       "    .dataframe thead th {\n",
       "        text-align: right;\n",
       "    }\n",
       "</style>\n",
       "<table border=\"1\" class=\"dataframe\">\n",
       "  <thead>\n",
       "    <tr style=\"text-align: right;\">\n",
       "      <th></th>\n",
       "      <th>batteryVoltageAdc</th>\n",
       "      <th>batteryCurrent</th>\n",
       "      <th>type</th>\n",
       "      <th>tripId</th>\n",
       "      <th>timestamp</th>\n",
       "      <th>vin</th>\n",
       "    </tr>\n",
       "  </thead>\n",
       "  <tbody>\n",
       "    <tr>\n",
       "      <th>151483</th>\n",
       "      <td>53.92157</td>\n",
       "      <td>0.0</td>\n",
       "      <td>B</td>\n",
       "      <td>749</td>\n",
       "      <td>2021-07-09 17:50:03.002000+05:30</td>\n",
       "      <td>NDS_KEYLESS_DEMO</td>\n",
       "    </tr>\n",
       "    <tr>\n",
       "      <th>151486</th>\n",
       "      <td>53.63322</td>\n",
       "      <td>0.0</td>\n",
       "      <td>B</td>\n",
       "      <td>749</td>\n",
       "      <td>2021-07-09 17:49:58.977000+05:30</td>\n",
       "      <td>NDS_KEYLESS_DEMO</td>\n",
       "    </tr>\n",
       "    <tr>\n",
       "      <th>151489</th>\n",
       "      <td>53.63322</td>\n",
       "      <td>0.0</td>\n",
       "      <td>B</td>\n",
       "      <td>749</td>\n",
       "      <td>2021-07-09 17:49:54.184000+05:30</td>\n",
       "      <td>NDS_KEYLESS_DEMO</td>\n",
       "    </tr>\n",
       "    <tr>\n",
       "      <th>151493</th>\n",
       "      <td>53.63322</td>\n",
       "      <td>0.0</td>\n",
       "      <td>B</td>\n",
       "      <td>749</td>\n",
       "      <td>2021-07-09 17:49:52.203000+05:30</td>\n",
       "      <td>NDS_KEYLESS_DEMO</td>\n",
       "    </tr>\n",
       "    <tr>\n",
       "      <th>151502</th>\n",
       "      <td>53.05652</td>\n",
       "      <td>0.0</td>\n",
       "      <td>B</td>\n",
       "      <td>752</td>\n",
       "      <td>2021-08-27 11:02:16.386000+05:30</td>\n",
       "      <td>NDS_KEYLESS_DEMO</td>\n",
       "    </tr>\n",
       "  </tbody>\n",
       "</table>\n",
       "</div>"
      ],
      "text/plain": [
       "        batteryVoltageAdc  batteryCurrent type  tripId  \\\n",
       "151483           53.92157             0.0    B     749   \n",
       "151486           53.63322             0.0    B     749   \n",
       "151489           53.63322             0.0    B     749   \n",
       "151493           53.63322             0.0    B     749   \n",
       "151502           53.05652             0.0    B     752   \n",
       "\n",
       "                              timestamp               vin  \n",
       "151483 2021-07-09 17:50:03.002000+05:30  NDS_KEYLESS_DEMO  \n",
       "151486 2021-07-09 17:49:58.977000+05:30  NDS_KEYLESS_DEMO  \n",
       "151489 2021-07-09 17:49:54.184000+05:30  NDS_KEYLESS_DEMO  \n",
       "151493 2021-07-09 17:49:52.203000+05:30  NDS_KEYLESS_DEMO  \n",
       "151502 2021-08-27 11:02:16.386000+05:30  NDS_KEYLESS_DEMO  "
      ]
     },
     "execution_count": 15,
     "metadata": {},
     "output_type": "execute_result"
    }
   ],
   "source": [
    "df.head()"
   ]
  },
  {
   "cell_type": "code",
   "execution_count": 16,
   "metadata": {
    "colab": {
     "base_uri": "https://localhost:8080/"
    },
    "id": "FwvtJ8AlgRcV",
    "outputId": "ad959b66-1d30-4cb4-c540-35c9ad999c59"
   },
   "outputs": [
    {
     "data": {
      "text/plain": [
       "count    73658.000000\n",
       "mean        67.580077\n",
       "std          4.224789\n",
       "min         47.001156\n",
       "25%         68.915800\n",
       "50%         68.915800\n",
       "75%         68.915800\n",
       "max         73.529410\n",
       "Name: batteryVoltageAdc, dtype: float64"
      ]
     },
     "execution_count": 16,
     "metadata": {},
     "output_type": "execute_result"
    }
   ],
   "source": [
    "df['batteryVoltageAdc'].describe()"
   ]
  },
  {
   "cell_type": "markdown",
   "metadata": {
    "id": "uuMgywvmqfMs"
   },
   "source": [
    "### Trying to sclae the batteryvoltage\n",
    "\n",
    "---\n",
    "\n"
   ]
  },
  {
   "cell_type": "code",
   "execution_count": 17,
   "metadata": {
    "id": "CeAuLryZqpnE"
   },
   "outputs": [],
   "source": [
    "tmax = 4.16\n",
    "tmin = 3.07\n",
    "rmin = 47.00 #minimum voltage at voltageadc\n",
    "rmax = 73.52 # maximum voltage at voltageadc\n",
    "df['scaled_voltage'] = (((df['batteryVoltageAdc'] - rmin)/(rmax-rmin)) * (tmax-tmin))+tmin"
   ]
  },
  {
   "cell_type": "code",
   "execution_count": 18,
   "metadata": {
    "colab": {
     "base_uri": "https://localhost:8080/"
    },
    "id": "z-816mB007rt",
    "outputId": "a82e9797-1b44-4644-e227-5508ac6af761"
   },
   "outputs": [
    {
     "data": {
      "text/plain": [
       "batteryVoltageAdc    542\n",
       "batteryCurrent         0\n",
       "type                   0\n",
       "tripId                 0\n",
       "timestamp              0\n",
       "vin                    0\n",
       "scaled_voltage       542\n",
       "dtype: int64"
      ]
     },
     "execution_count": 18,
     "metadata": {},
     "output_type": "execute_result"
    }
   ],
   "source": [
    "df.isnull().sum()"
   ]
  },
  {
   "cell_type": "code",
   "execution_count": 19,
   "metadata": {
    "colab": {
     "base_uri": "https://localhost:8080/",
     "height": 313
    },
    "id": "CXIcS1GCacBy",
    "outputId": "f913223a-edb8-4890-8d46-e4e49e0358e4"
   },
   "outputs": [
    {
     "data": {
      "text/html": [
       "<div>\n",
       "<style scoped>\n",
       "    .dataframe tbody tr th:only-of-type {\n",
       "        vertical-align: middle;\n",
       "    }\n",
       "\n",
       "    .dataframe tbody tr th {\n",
       "        vertical-align: top;\n",
       "    }\n",
       "\n",
       "    .dataframe thead th {\n",
       "        text-align: right;\n",
       "    }\n",
       "</style>\n",
       "<table border=\"1\" class=\"dataframe\">\n",
       "  <thead>\n",
       "    <tr style=\"text-align: right;\">\n",
       "      <th></th>\n",
       "      <th>batteryVoltageAdc</th>\n",
       "      <th>batteryCurrent</th>\n",
       "      <th>type</th>\n",
       "      <th>tripId</th>\n",
       "      <th>timestamp</th>\n",
       "      <th>vin</th>\n",
       "      <th>scaled_voltage</th>\n",
       "    </tr>\n",
       "  </thead>\n",
       "  <tbody>\n",
       "    <tr>\n",
       "      <th>151483</th>\n",
       "      <td>53.92157</td>\n",
       "      <td>0.0</td>\n",
       "      <td>B</td>\n",
       "      <td>749</td>\n",
       "      <td>2021-07-09 17:50:03.002000+05:30</td>\n",
       "      <td>NDS_KEYLESS_DEMO</td>\n",
       "      <td>3.354484</td>\n",
       "    </tr>\n",
       "    <tr>\n",
       "      <th>151486</th>\n",
       "      <td>53.63322</td>\n",
       "      <td>0.0</td>\n",
       "      <td>B</td>\n",
       "      <td>749</td>\n",
       "      <td>2021-07-09 17:49:58.977000+05:30</td>\n",
       "      <td>NDS_KEYLESS_DEMO</td>\n",
       "      <td>3.342632</td>\n",
       "    </tr>\n",
       "    <tr>\n",
       "      <th>151489</th>\n",
       "      <td>53.63322</td>\n",
       "      <td>0.0</td>\n",
       "      <td>B</td>\n",
       "      <td>749</td>\n",
       "      <td>2021-07-09 17:49:54.184000+05:30</td>\n",
       "      <td>NDS_KEYLESS_DEMO</td>\n",
       "      <td>3.342632</td>\n",
       "    </tr>\n",
       "    <tr>\n",
       "      <th>151493</th>\n",
       "      <td>53.63322</td>\n",
       "      <td>0.0</td>\n",
       "      <td>B</td>\n",
       "      <td>749</td>\n",
       "      <td>2021-07-09 17:49:52.203000+05:30</td>\n",
       "      <td>NDS_KEYLESS_DEMO</td>\n",
       "      <td>3.342632</td>\n",
       "    </tr>\n",
       "    <tr>\n",
       "      <th>151502</th>\n",
       "      <td>53.05652</td>\n",
       "      <td>0.0</td>\n",
       "      <td>B</td>\n",
       "      <td>752</td>\n",
       "      <td>2021-08-27 11:02:16.386000+05:30</td>\n",
       "      <td>NDS_KEYLESS_DEMO</td>\n",
       "      <td>3.318929</td>\n",
       "    </tr>\n",
       "  </tbody>\n",
       "</table>\n",
       "</div>"
      ],
      "text/plain": [
       "        batteryVoltageAdc  batteryCurrent type  tripId  \\\n",
       "151483           53.92157             0.0    B     749   \n",
       "151486           53.63322             0.0    B     749   \n",
       "151489           53.63322             0.0    B     749   \n",
       "151493           53.63322             0.0    B     749   \n",
       "151502           53.05652             0.0    B     752   \n",
       "\n",
       "                              timestamp               vin  scaled_voltage  \n",
       "151483 2021-07-09 17:50:03.002000+05:30  NDS_KEYLESS_DEMO        3.354484  \n",
       "151486 2021-07-09 17:49:58.977000+05:30  NDS_KEYLESS_DEMO        3.342632  \n",
       "151489 2021-07-09 17:49:54.184000+05:30  NDS_KEYLESS_DEMO        3.342632  \n",
       "151493 2021-07-09 17:49:52.203000+05:30  NDS_KEYLESS_DEMO        3.342632  \n",
       "151502 2021-08-27 11:02:16.386000+05:30  NDS_KEYLESS_DEMO        3.318929  "
      ]
     },
     "execution_count": 19,
     "metadata": {},
     "output_type": "execute_result"
    }
   ],
   "source": [
    "df.head()"
   ]
  },
  {
   "cell_type": "code",
   "execution_count": 20,
   "metadata": {
    "colab": {
     "base_uri": "https://localhost:8080/"
    },
    "id": "8nAiKcxPfTTy",
    "outputId": "fbf43610-602e-4caa-e39c-2cdd067b5c8e"
   },
   "outputs": [
    {
     "data": {
      "text/plain": [
       "array([3.35448383, 3.34263235, 3.31892937, 3.33078077, 3.79299001,\n",
       "       3.80484126, 3.81669291, 4.12483229, 3.82854465, 4.13668378,\n",
       "       3.97076252, 3.98261421,        nan, 3.44929591, 3.4611474 ,\n",
       "       3.95891103, 3.36633532, 3.3781869 , 3.62706871, 3.7574353 ,\n",
       "       3.48485047, 3.72188083, 3.67447467, 3.41374141, 3.71002934,\n",
       "       3.43744447, 3.86409911, 4.16038676, 3.8759506 , 4.14853552,\n",
       "       3.84039572, 3.89965358, 3.50855353, 3.3900383 , 3.88780209,\n",
       "       3.49670212, 3.40188996, 3.65077177, 3.47299902, 3.93520805,\n",
       "       3.54410808, 3.57966255, 3.60336565, 3.92335656, 3.07004751,\n",
       "       3.68632628, 3.91150507])"
      ]
     },
     "execution_count": 20,
     "metadata": {},
     "output_type": "execute_result"
    }
   ],
   "source": [
    "df['scaled_voltage'].unique()"
   ]
  },
  {
   "cell_type": "code",
   "execution_count": 21,
   "metadata": {
    "colab": {
     "base_uri": "https://localhost:8080/",
     "height": 281
    },
    "id": "9UwT2kFWan5l",
    "outputId": "6f91bbbc-3379-404c-d925-f3305b6eeecd"
   },
   "outputs": [
    {
     "data": {
      "image/png": "[encoded data removed]",
      "text/plain": [
       "<Figure size 432x288 with 1 Axes>"
      ]
     },
     "metadata": {
      "needs_background": "light"
     },
     "output_type": "display_data"
    }
   ],
   "source": [
    "import matplotlib.pyplot as plt\n",
    "x = df['batteryVoltageAdc']\n",
    "y = df['scaled_voltage']\n",
    "plt.plot(x,y)\n",
    "plt.xlabel(\"batteryVoltageAdc\")\n",
    "plt.ylabel(\"scaled_voltage\")\n",
    "plt.show()"
   ]
  },
  {
   "cell_type": "code",
   "execution_count": 22,
   "metadata": {
    "colab": {
     "base_uri": "https://localhost:8080/"
    },
    "id": "bf4Bvp-H0XRU",
    "outputId": "7500f150-7cf6-4718-bb20-74db5068173d"
   },
   "outputs": [
    {
     "data": {
      "text/plain": [
       "(74200, 7)"
      ]
     },
     "execution_count": 22,
     "metadata": {},
     "output_type": "execute_result"
    }
   ],
   "source": [
    "df['scaled_voltage'].isnull().sum()\n",
    "df.shape"
   ]
  },
  {
   "cell_type": "code",
   "execution_count": 23,
   "metadata": {
    "id": "kGOfymz40vdZ"
   },
   "outputs": [
    {
     "data": {
      "text/plain": [
       "(73658, 7)"
      ]
     },
     "execution_count": 23,
     "metadata": {},
     "output_type": "execute_result"
    }
   ],
   "source": [
    "df1  =df.dropna()\n",
    "df1.shape "
   ]
  },
  {
   "cell_type": "markdown",
   "metadata": {
    "id": "wRoLKmhTbRYa"
   },
   "source": [
    "A straight line with 45 degree slope means the data is scaled linearly"
   ]
  },
  {
   "cell_type": "code",
   "execution_count": 24,
   "metadata": {
    "id": "BBOqnJGqcz6n"
   },
   "outputs": [],
   "source": [
    "ocv_soc_dict = dict({0 :[4.1617,1], 1:[4.0913,0.9503],2:[4.0749,0.9007],\n",
    "                     3:[4.0606,0.8510],4:[4.0153,0.8013],5: [3.9592,0.7517],\n",
    "                     6:[3.9164,0.7020],7:[3.8687,0.6524],8:[3.8163,0.6027],\n",
    "                     9:[3.7735,0.5530],10:[3.7317,0.5034],11:[3.6892,0.4537],\n",
    "                     12:[3.6396,0.4040],13:[3.5677,0.3543],14:[3.5208,0.3046],\n",
    "                     15:[3.4712,0.2550],16:[3.3860,0.2053],17:[3.2880,0.1556],\n",
    "                     18:[3.2037,0.1059],19:[3.0747,0.0563]})"
   ]
  },
  {
   "cell_type": "code",
   "execution_count": 25,
   "metadata": {
    "colab": {
     "base_uri": "https://localhost:8080/"
    },
    "id": "sYXKtY1kBqTs",
    "outputId": "26ed7d4d-c5b3-41db-e265-20efc065b142"
   },
   "outputs": [
    {
     "data": {
      "text/plain": [
       "20"
      ]
     },
     "execution_count": 25,
     "metadata": {},
     "output_type": "execute_result"
    }
   ],
   "source": [
    "len(ocv_soc_dict)"
   ]
  },
  {
   "cell_type": "code",
   "execution_count": 26,
   "metadata": {
    "colab": {
     "base_uri": "https://localhost:8080/"
    },
    "id": "eKQjQeYGo2GJ",
    "outputId": "d7ca3c6b-e13d-40e3-86e9-df659b18b408"
   },
   "outputs": [
    {
     "data": {
      "text/plain": [
       "[4.1617, 1]"
      ]
     },
     "execution_count": 26,
     "metadata": {},
     "output_type": "execute_result"
    }
   ],
   "source": [
    "ocv_soc_dict[0]"
   ]
  },
  {
   "cell_type": "code",
   "execution_count": 36,
   "metadata": {
    "id": "7uaiBuw-B-Wl"
   },
   "outputs": [
    {
     "data": {
      "text/plain": [
       "3.354483834841629"
      ]
     },
     "execution_count": 36,
     "metadata": {},
     "output_type": "execute_result"
    }
   ],
   "source": [
    "data_s = df1['scaled_voltage']\n",
    "data_s[151483]"
   ]
  },
  {
   "cell_type": "code",
   "execution_count": 40,
   "metadata": {
    "id": "TkVB4PKBoNUS"
   },
   "outputs": [],
   "source": [
    "def ocv_func(x):\n",
    "    for i in range(0,19):\n",
    "      prev_voltage = ocv_soc_dict[i][0]\n",
    "      curr_voltage = ocv_soc_dict[i+1][0]\n",
    "      if(x<prev_voltage and x>curr_voltage):\n",
    "        print(x)\n",
    "        print(1)\n",
    "        return ocv_soc_dict[i][1]\n",
    "      else:\n",
    "        print(0)\n",
    "        return np.nan\n"
   ]
  },
  {
   "cell_type": "code",
   "execution_count": 41,
   "metadata": {},
   "outputs": [
    {
     "data": {
      "text/plain": [
       "nan"
      ]
     },
     "execution_count": 41,
     "metadata": {},
     "output_type": "execute_result"
    }
   ],
   "source": [
    "ocv_func(data_s[151483])"
   ]
  },
  {
   "cell_type": "code",
   "execution_count": 42,
   "metadata": {
    "colab": {
     "base_uri": "https://localhost:8080/",
     "height": 165
    },
    "id": "pgpO0SXisQh6",
    "outputId": "92250275-eeba-45de-ea57-f67fb6f35d68"
   },
   "outputs": [
    {
     "name": "stdout",
     "output_type": "stream",
     "text": [
      "4.1248322926093515\n",
      "4.136683782051282\n",
      "4.136683782051282\n",
      "4.160386760935143\n",
      "4.1248322926093515\n",
      "4.136683782051282\n",
      "4.148535518099548\n",
      "4.136683782051282\n",
      "4.136683782051282\n"
     ]
    },
    {
     "name": "stderr",
     "output_type": "stream",
     "text": [
      "<ipython-input-42-864dfb098628>:1: SettingWithCopyWarning: \n",
      "A value is trying to be set on a copy of a slice from a DataFrame.\n",
      "Try using .loc[row_indexer,col_indexer] = value instead\n",
      "\n",
      "See the caveats in the documentation: https://pandas.pydata.org/pandas-docs/stable/user_guide/indexing.html#returning-a-view-versus-a-copy\n",
      "  df1['mapped_SOC'] = df1['scaled_voltage'].apply(lambda x: ocv_func(x))\n"
     ]
    }
   ],
   "source": [
    "df1['mapped_SOC'] = df1['scaled_voltage'].apply(lambda x: ocv_func(x))"
   ]
  },
  {
   "cell_type": "code",
   "execution_count": 44,
   "metadata": {
    "colab": {
     "base_uri": "https://localhost:8080/",
     "height": 640
    },
    "id": "r_PtlkHzskNM",
    "outputId": "c38c489a-612b-4b20-c820-e414b608e6a2"
   },
   "outputs": [
    {
     "data": {
      "text/plain": [
       "count    9.0\n",
       "mean     1.0\n",
       "std      0.0\n",
       "min      1.0\n",
       "25%      1.0\n",
       "50%      1.0\n",
       "75%      1.0\n",
       "max      1.0\n",
       "Name: mapped_SOC, dtype: float64"
      ]
     },
     "execution_count": 44,
     "metadata": {},
     "output_type": "execute_result"
    }
   ],
   "source": [
    "df1['mapped_SOC'].describe()"
   ]
  },
  {
   "cell_type": "code",
   "execution_count": null,
   "metadata": {
    "id": "2GepFRTD0TYH"
   },
   "outputs": [],
   "source": []
  }
 ],
 "metadata": {
  "colab": {
   "collapsed_sections": [],
   "name": "SOC_calculation",
   "provenance": []
  },
  "kernelspec": {
   "display_name": "Python 3",
   "language": "python",
   "name": "python3"
  },
  "language_info": {
   "codemirror_mode": {
    "name": "ipython",
    "version": 3
   },
   "file_extension": ".py",
   "mimetype": "text/x-python",
   "name": "python",
   "nbconvert_exporter": "python",
   "pygments_lexer": "ipython3",
   "version": "3.8.8"
  }
 },
 "nbformat": 4,
 "nbformat_minor": 1
}
